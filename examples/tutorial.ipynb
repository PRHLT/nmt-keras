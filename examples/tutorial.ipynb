{
  "nbformat": 4,
  "nbformat_minor": 0,
  "metadata": {
    "colab": {
      "name": "nmt_tutorial.ipynb",
      "provenance": [],
      "collapsed_sections": [],
      "toc_visible": true,
      "authorship_tag": "ABX9TyPNuNt8h9IZXy/e4GVbSkuT",
      "include_colab_link": true
    },
    "kernelspec": {
      "name": "python3",
      "display_name": "Python 3"
    },
    "accelerator": "GPU"
  },
  "cells": [
    {
      "cell_type": "markdown",
      "metadata": {
        "id": "view-in-github",
        "colab_type": "text"
      },
      "source": [
        "<a href=\"https://colab.research.google.com/github/lvapeab/nmt-keras/blob/master/examples/tutorial.ipynb\" target=\"_parent\"><img src=\"https://colab.research.google.com/assets/colab-badge.svg\" alt=\"Open In Colab\"/></a>"
      ]
    },
    {
      "cell_type": "markdown",
      "metadata": {
        "id": "tNxDp3Me4zXx",
        "colab_type": "text"
      },
      "source": [
        "\n",
        "# NMT-Keras tutorial\n",
        "---\n",
        "\n",
        "This notebook describes, step by step, how to build a neural machine translation model with NMT-Keras. The tutorial is organized in different sections:\n",
        "\n",
        "\n",
        "1. Create a Dataset instance, in order to properly manage the data. \n",
        "2. Create and train the Neural Translation Model in the training data.\n",
        "3. Apply the trained model on new (unseen) data.\n",
        "\n",
        "All these steps are automatically run by the toolkit. But, to learn and understand the full process, it is didactic to follow this tutorial.\n",
        "\n",
        "\n",
        "So, let's start installing the toolkit."
      ]
    },
    {
      "cell_type": "code",
      "metadata": {
        "id": "0mtJWLes5JO7",
        "colab_type": "code",
        "outputId": "7798469b-21b0-41bd-9b84-e3102a952b2e",
        "colab": {
          "base_uri": "https://localhost:8080/",
          "height": 1000
        }
      },
      "source": [
        "!pip install update pip\n",
        "!pip uninstall -y keras  # Avoid crashes with pre-installed packages\n",
        "!git clone https://github.com/lvapeab/nmt-keras\n",
        "import os\n",
        "os.chdir('nmt-keras')\n",
        "!pip install -e .\n"
      ],
      "execution_count": 0,
      "outputs": [
        {
          "output_type": "stream",
          "text": [
            "Requirement already satisfied: update in /usr/local/lib/python3.6/dist-packages (0.0.1)\n",
            "Requirement already satisfied: pip in /usr/local/lib/python3.6/dist-packages (19.3.1)\n",
            "Requirement already satisfied: style==1.1.0 in /usr/local/lib/python3.6/dist-packages (from update) (1.1.0)\n",
            "Uninstalling Keras-2.2.4:\n",
            "  Successfully uninstalled Keras-2.2.4\n",
            "Cloning into 'nmt-keras'...\n",
            "remote: Enumerating objects: 4482, done.\u001b[K\n",
            "remote: Total 4482 (delta 0), reused 0 (delta 0), pack-reused 4482\u001b[K\n",
            "Receiving objects: 100% (4482/4482), 5.59 MiB | 3.18 MiB/s, done.\n",
            "Resolving deltas: 100% (3030/3030), done.\n",
            "Obtaining file:///content/nmt-keras/nmt-keras/nmt-keras\n",
            "Requirement already satisfied: coco-caption@ https://github.com/lvapeab/coco-caption/archive/master.zip from https://github.com/lvapeab/coco-caption/archive/master.zip in /usr/local/lib/python3.6/dist-packages (from nmt-keras==0.6) (0.0)\n",
            "Requirement already satisfied: cloudpickle in /usr/local/lib/python3.6/dist-packages (from nmt-keras==0.6) (1.3.0)\n",
            "Requirement already satisfied: future in /usr/local/lib/python3.6/dist-packages (from nmt-keras==0.6) (0.16.0)\n",
            "Collecting keras@ https://github.com/MarcBS/keras/archive/master.zip\n",
            "  Using cached https://github.com/MarcBS/keras/archive/master.zip\n",
            "Requirement already satisfied: keras_applications in /usr/local/lib/python3.6/dist-packages (from nmt-keras==0.6) (1.0.8)\n",
            "Requirement already satisfied: keras_preprocessing in /usr/local/lib/python3.6/dist-packages (from nmt-keras==0.6) (1.1.0)\n",
            "Requirement already satisfied: h5py in /usr/local/lib/python3.6/dist-packages (from nmt-keras==0.6) (2.8.0)\n",
            "Requirement already satisfied: matplotlib in /usr/local/lib/python3.6/dist-packages (from nmt-keras==0.6) (3.2.0)\n",
            "Requirement already satisfied: multimodal-keras-wrapper in /usr/local/lib/python3.6/dist-packages (from nmt-keras==0.6) (3.0.2)\n",
            "Requirement already satisfied: numpy in /usr/local/lib/python3.6/dist-packages (from nmt-keras==0.6) (1.18.2)\n",
            "Requirement already satisfied: scikit-image in /usr/local/lib/python3.6/dist-packages (from nmt-keras==0.6) (0.16.2)\n",
            "Requirement already satisfied: scikit-learn in /usr/local/lib/python3.6/dist-packages (from nmt-keras==0.6) (0.22.2.post1)\n",
            "Requirement already satisfied: six in /usr/local/lib/python3.6/dist-packages (from nmt-keras==0.6) (1.12.0)\n",
            "Requirement already satisfied: tables in /usr/local/lib/python3.6/dist-packages (from nmt-keras==0.6) (3.4.4)\n",
            "Requirement already satisfied: pandas in /usr/local/lib/python3.6/dist-packages (from nmt-keras==0.6) (0.25.3)\n",
            "Requirement already satisfied: sacremoses in /usr/local/lib/python3.6/dist-packages (from nmt-keras==0.6) (0.0.38)\n",
            "Requirement already satisfied: scipy in /usr/local/lib/python3.6/dist-packages (from nmt-keras==0.6) (1.4.1)\n",
            "Requirement already satisfied: tensorflow<2 in /tensorflow-1.15.0/python3.6 (from nmt-keras==0.6) (1.15.0)\n",
            "Requirement already satisfied: pyyaml in /usr/local/lib/python3.6/dist-packages (from keras@ https://github.com/MarcBS/keras/archive/master.zip->nmt-keras==0.6) (3.13)\n",
            "Requirement already satisfied: pyparsing!=2.0.4,!=2.1.2,!=2.1.6,>=2.0.1 in /usr/local/lib/python3.6/dist-packages (from matplotlib->nmt-keras==0.6) (2.4.6)\n",
            "Requirement already satisfied: python-dateutil>=2.1 in /usr/local/lib/python3.6/dist-packages (from matplotlib->nmt-keras==0.6) (2.8.1)\n",
            "Requirement already satisfied: cycler>=0.10 in /usr/local/lib/python3.6/dist-packages (from matplotlib->nmt-keras==0.6) (0.10.0)\n",
            "Requirement already satisfied: kiwisolver>=1.0.1 in /usr/local/lib/python3.6/dist-packages (from matplotlib->nmt-keras==0.6) (1.1.0)\n",
            "Requirement already satisfied: cython in /usr/local/lib/python3.6/dist-packages (from multimodal-keras-wrapper->nmt-keras==0.6) (0.29.15)\n",
            "Requirement already satisfied: sklearn in /usr/local/lib/python3.6/dist-packages (from multimodal-keras-wrapper->nmt-keras==0.6) (0.0)\n",
            "Requirement already satisfied: toolz in /usr/local/lib/python3.6/dist-packages (from multimodal-keras-wrapper->nmt-keras==0.6) (0.10.0)\n",
            "Requirement already satisfied: PyWavelets>=0.4.0 in /usr/local/lib/python3.6/dist-packages (from scikit-image->nmt-keras==0.6) (1.1.1)\n",
            "Requirement already satisfied: pillow>=4.3.0 in /usr/local/lib/python3.6/dist-packages (from scikit-image->nmt-keras==0.6) (7.0.0)\n",
            "Requirement already satisfied: imageio>=2.3.0 in /usr/local/lib/python3.6/dist-packages (from scikit-image->nmt-keras==0.6) (2.4.1)\n",
            "Requirement already satisfied: networkx>=2.0 in /usr/local/lib/python3.6/dist-packages (from scikit-image->nmt-keras==0.6) (2.4)\n",
            "Requirement already satisfied: joblib>=0.11 in /usr/local/lib/python3.6/dist-packages (from scikit-learn->nmt-keras==0.6) (0.14.1)\n",
            "Requirement already satisfied: numexpr>=2.5.2 in /usr/local/lib/python3.6/dist-packages (from tables->nmt-keras==0.6) (2.7.1)\n",
            "Requirement already satisfied: pytz>=2017.2 in /usr/local/lib/python3.6/dist-packages (from pandas->nmt-keras==0.6) (2018.9)\n",
            "Requirement already satisfied: regex in /usr/local/lib/python3.6/dist-packages (from sacremoses->nmt-keras==0.6) (2019.12.20)\n",
            "Requirement already satisfied: tqdm in /usr/local/lib/python3.6/dist-packages (from sacremoses->nmt-keras==0.6) (4.38.0)\n",
            "Requirement already satisfied: click in /usr/local/lib/python3.6/dist-packages (from sacremoses->nmt-keras==0.6) (7.1.1)\n",
            "Requirement already satisfied: wheel>=0.26 in /usr/local/lib/python3.6/dist-packages (from tensorflow<2->nmt-keras==0.6) (0.34.2)\n",
            "Requirement already satisfied: opt-einsum>=2.3.2 in /usr/local/lib/python3.6/dist-packages (from tensorflow<2->nmt-keras==0.6) (3.2.0)\n",
            "Requirement already satisfied: tensorboard<1.16.0,>=1.15.0 in /tensorflow-1.15.0/python3.6 (from tensorflow<2->nmt-keras==0.6) (1.15.0)\n",
            "Requirement already satisfied: gast==0.2.2 in /usr/local/lib/python3.6/dist-packages (from tensorflow<2->nmt-keras==0.6) (0.2.2)\n",
            "Requirement already satisfied: protobuf>=3.6.1 in /usr/local/lib/python3.6/dist-packages (from tensorflow<2->nmt-keras==0.6) (3.10.0)\n",
            "Requirement already satisfied: wrapt>=1.11.1 in /usr/local/lib/python3.6/dist-packages (from tensorflow<2->nmt-keras==0.6) (1.12.1)\n",
            "Requirement already satisfied: astor>=0.6.0 in /usr/local/lib/python3.6/dist-packages (from tensorflow<2->nmt-keras==0.6) (0.8.1)\n",
            "Requirement already satisfied: google-pasta>=0.1.6 in /usr/local/lib/python3.6/dist-packages (from tensorflow<2->nmt-keras==0.6) (0.2.0)\n",
            "Requirement already satisfied: termcolor>=1.1.0 in /usr/local/lib/python3.6/dist-packages (from tensorflow<2->nmt-keras==0.6) (1.1.0)\n",
            "Requirement already satisfied: absl-py>=0.7.0 in /usr/local/lib/python3.6/dist-packages (from tensorflow<2->nmt-keras==0.6) (0.9.0)\n",
            "Requirement already satisfied: tensorflow-estimator==1.15.1 in /tensorflow-1.15.0/python3.6 (from tensorflow<2->nmt-keras==0.6) (1.15.1)\n",
            "Requirement already satisfied: grpcio>=1.8.6 in /usr/local/lib/python3.6/dist-packages (from tensorflow<2->nmt-keras==0.6) (1.24.3)\n",
            "Requirement already satisfied: setuptools in /usr/local/lib/python3.6/dist-packages (from kiwisolver>=1.0.1->matplotlib->nmt-keras==0.6) (46.0.0)\n",
            "Requirement already satisfied: decorator>=4.3.0 in /usr/local/lib/python3.6/dist-packages (from networkx>=2.0->scikit-image->nmt-keras==0.6) (4.4.2)\n",
            "Requirement already satisfied: werkzeug>=0.11.15 in /usr/local/lib/python3.6/dist-packages (from tensorboard<1.16.0,>=1.15.0->tensorflow<2->nmt-keras==0.6) (1.0.0)\n",
            "Requirement already satisfied: markdown>=2.6.8 in /usr/local/lib/python3.6/dist-packages (from tensorboard<1.16.0,>=1.15.0->tensorflow<2->nmt-keras==0.6) (3.2.1)\n",
            "Building wheels for collected packages: keras\n",
            "  Building wheel for keras (setup.py) ... \u001b[?25l\u001b[?25hdone\n",
            "  Created wheel for keras: filename=Keras-2.2.4-cp36-none-any.whl size=455356 sha256=9c4eb3a20bacec7bbc93b46cee34b5ac1771a6df736b001541c9fec743073545\n",
            "  Stored in directory: /tmp/pip-ephem-wheel-cache-owclryko/wheels/82/f8/db/7c0c999dced9850abb60944d255a31dbdf10f76f645454b715\n",
            "Successfully built keras\n",
            "Installing collected packages: keras, nmt-keras\n",
            "  Found existing installation: nmt-keras 0.6\n",
            "    Can't uninstall 'nmt-keras'. No files were found to uninstall.\n",
            "  Running setup.py develop for nmt-keras\n",
            "Successfully installed keras-2.2.4 nmt-keras\n"
          ],
          "name": "stdout"
        },
        {
          "output_type": "display_data",
          "data": {
            "application/vnd.colab-display-data+json": {
              "pip_warning": {
                "packages": [
                  "keras"
                ]
              }
            }
          },
          "metadata": {
            "tags": []
          }
        }
      ]
    },
    {
      "cell_type": "markdown",
      "metadata": {
        "id": "VSSh7bps4y1U",
        "colab_type": "text"
      },
      "source": [
        "## 1. Building a Dataset model\n",
        "First, we are creating a [Dataset](https://github.com/MarcBS/multimodal_keras_wrapper/keras_wrapper/dataset.py) object (from the [Multimodal Keras Wrapper](https://github.com/MarcBS/multimodal_keras_wrapper) library). This object will be the interface between our data (text files) and the model:"
      ]
    },
    {
      "cell_type": "code",
      "metadata": {
        "id": "hiY2fUFU83Rx",
        "colab_type": "code",
        "colab": {}
      },
      "source": [
        "from keras_wrapper.dataset import Dataset, saveDataset\n",
        "from data_engine.prepare_data import keep_n_captions\n",
        "ds = Dataset('tutorial_dataset', 'tutorial', silence=False)"
      ],
      "execution_count": 0,
      "outputs": []
    },
    {
      "cell_type": "markdown",
      "metadata": {
        "id": "1ify05BL8_Rj",
        "colab_type": "text"
      },
      "source": [
        "Now that we have the empty dataset, we must indicate its inputs and outputs. In our case, we'll have two different inputs and one single output:\n",
        "\n",
        "1. Outputs:\n",
        "**target_text**: Sentences in our target language.\n",
        "\n",
        "2. Inputs:\n",
        "**source_text**: Sentences in the source language.\n",
        "\n",
        "**state_below**: Sentences in the target language, but shifted one position to the right (for teacher-forcing training of the model).\n",
        "\n",
        "For setting up the outputs, we use the setOutputs function, with the appropriate parameters. Note that, when we are building the dataset for the training split, we build the vocabulary (up to 30000 words)."
      ]
    },
    {
      "cell_type": "code",
      "metadata": {
        "id": "d1A8D0qn9IeE",
        "colab_type": "code",
        "outputId": "43012d1a-2294-489e-b0b8-f0769498f43a",
        "colab": {
          "base_uri": "https://localhost:8080/",
          "height": 143
        }
      },
      "source": [
        "ds.setOutput('examples/EuTrans/training.en',\n",
        "             'train',\n",
        "             type='text',\n",
        "             id='target_text',\n",
        "             tokenization='tokenize_none',\n",
        "             build_vocabulary=True,\n",
        "             pad_on_batch=True,\n",
        "             sample_weights=True,\n",
        "             max_text_len=30,\n",
        "             max_words=30000,\n",
        "             min_occ=0)\n",
        "\n",
        "ds.setOutput('examples/EuTrans/dev.en',\n",
        "             'val',\n",
        "             type='text',\n",
        "             id='target_text',\n",
        "             pad_on_batch=True,\n",
        "             tokenization='tokenize_none',\n",
        "             sample_weights=True,\n",
        "             max_text_len=30,\n",
        "             max_words=0)"
      ],
      "execution_count": 0,
      "outputs": [
        {
          "output_type": "stream",
          "text": [
            "[24/03/2020 14:27:55] \tApplying tokenization function: \"tokenize_none\".\n",
            "[24/03/2020 14:27:55] Creating vocabulary for data with data_id 'target_text'.\n",
            "[24/03/2020 14:27:55] \t Total: 513 unique words in 9900 sentences with a total of 98304 words.\n",
            "[24/03/2020 14:27:55] Creating dictionary of 30000 most common words, covering 100.0% of the text.\n",
            "[24/03/2020 14:27:55] Loaded \"train\" set outputs of data_type \"text\" with data_id \"target_text\" and length 9900.\n",
            "[24/03/2020 14:27:55] \tApplying tokenization function: \"tokenize_none\".\n",
            "[24/03/2020 14:27:55] Loaded \"val\" set outputs of data_type \"text\" with data_id \"target_text\" and length 100.\n"
          ],
          "name": "stderr"
        }
      ]
    },
    {
      "cell_type": "markdown",
      "metadata": {
        "id": "jipVyl7f9NTz",
        "colab_type": "text"
      },
      "source": [
        "Similarly, we introduce the source text data, with the setInputs function. Again, when building the training split, we must construct the vocabulary."
      ]
    },
    {
      "cell_type": "code",
      "metadata": {
        "id": "f72G9mHX9PPq",
        "colab_type": "code",
        "outputId": "fc4b70ee-d32a-45f9-83fa-484d2755651d",
        "colab": {
          "base_uri": "https://localhost:8080/",
          "height": 143
        }
      },
      "source": [
        "ds.setInput('examples/EuTrans/training.es',\n",
        "            'train',\n",
        "            type='text',\n",
        "            id='source_text',\n",
        "            pad_on_batch=True,\n",
        "            tokenization='tokenize_none',\n",
        "            build_vocabulary=True,\n",
        "            fill='end',\n",
        "            max_text_len=30,\n",
        "            max_words=30000,\n",
        "            min_occ=0)\n",
        "ds.setInput('examples/EuTrans/dev.es',\n",
        "            'val',\n",
        "            type='text',\n",
        "            id='source_text',\n",
        "            pad_on_batch=True,\n",
        "            tokenization='tokenize_none',\n",
        "            fill='end',\n",
        "            max_text_len=30,\n",
        "            min_occ=0)"
      ],
      "execution_count": 0,
      "outputs": [
        {
          "output_type": "stream",
          "text": [
            "[24/03/2020 14:27:55] \tApplying tokenization function: \"tokenize_none\".\n",
            "[24/03/2020 14:27:55] Creating vocabulary for data with data_id 'source_text'.\n",
            "[24/03/2020 14:27:55] \t Total: 686 unique words in 9900 sentences with a total of 96172 words.\n",
            "[24/03/2020 14:27:55] Creating dictionary of 30000 most common words, covering 100.0% of the text.\n",
            "[24/03/2020 14:27:55] Loaded \"train\" set inputs of data_type \"text\" with data_id \"source_text\" and length 9900.\n",
            "[24/03/2020 14:27:55] \tApplying tokenization function: \"tokenize_none\".\n",
            "[24/03/2020 14:27:55] Loaded \"val\" set inputs of data_type \"text\" with data_id \"source_text\" and length 100.\n"
          ],
          "name": "stderr"
        }
      ]
    },
    {
      "cell_type": "markdown",
      "metadata": {
        "id": "AHvZimmm9U0p",
        "colab_type": "text"
      },
      "source": [
        "...and for the 'state_below' data. Note that: 1) The offset flat is set to 1, which means that the text will be shifted to the right 1 position. 2) During sampling time, we won't have this input. Hence, we 'hack' the dataset model by inserting an artificial input, of type 'ghost' for the validation split."
      ]
    },
    {
      "cell_type": "code",
      "metadata": {
        "id": "YiTM3y449ZFL",
        "colab_type": "code",
        "outputId": "717b1859-260b-4f56-bb4d-727d34428dd4",
        "colab": {
          "base_uri": "https://localhost:8080/",
          "height": 89
        }
      },
      "source": [
        "ds.setInput('examples/EuTrans/training.en',\n",
        "            'train',\n",
        "            type='text',\n",
        "            id='state_below',\n",
        "            required=False,\n",
        "            tokenization='tokenize_none',\n",
        "            pad_on_batch=True,\n",
        "            build_vocabulary='target_text',\n",
        "            offset=1,\n",
        "            fill='end',\n",
        "            max_text_len=30,\n",
        "            max_words=30000)\n",
        "ds.setInput(None,\n",
        "            'val',\n",
        "            type='ghost',\n",
        "            id='state_below',\n",
        "            required=False)"
      ],
      "execution_count": 0,
      "outputs": [
        {
          "output_type": "stream",
          "text": [
            "[24/03/2020 14:27:55] \tApplying tokenization function: \"tokenize_none\".\n",
            "[24/03/2020 14:27:55] \tReusing vocabulary named \"target_text\" for data with data_id \"state_below\".\n",
            "[24/03/2020 14:27:55] Loaded \"train\" set inputs of data_type \"text\" with data_id \"state_below\" and length 9900.\n",
            "[24/03/2020 14:27:55] Loaded \"val\" set inputs of data_type \"ghost\" with data_id \"state_below\" and length 100.\n"
          ],
          "name": "stderr"
        }
      ]
    },
    {
      "cell_type": "markdown",
      "metadata": {
        "id": "9H-1qb1ksD5Y",
        "colab_type": "text"
      },
      "source": [
        "We can also keep the literal source words (for replacing unknown words)."
      ]
    },
    {
      "cell_type": "code",
      "metadata": {
        "id": "AkC4AUjGsLYd",
        "colab_type": "code",
        "outputId": "fdbe362f-2e56-4146-e496-b5eb5321b656",
        "colab": {
          "base_uri": "https://localhost:8080/",
          "height": 53
        }
      },
      "source": [
        "  for split, input_text_filename in zip(['train', 'val'], ['examples/EuTrans/training.es', 'examples/EuTrans/dev.es']):\n",
        "    ds.setRawInput(input_text_filename,\n",
        "                  split,\n",
        "                  type='file-name',\n",
        "                  id='raw_source_text',\n",
        "                  overwrite_split=True)"
      ],
      "execution_count": 0,
      "outputs": [
        {
          "output_type": "stream",
          "text": [
            "[24/03/2020 14:27:55] Loaded \"train\" set inputs of type \"file-name\" with id \"raw_source_text\".\n",
            "[24/03/2020 14:27:55] Loaded \"val\" set inputs of type \"file-name\" with id \"raw_source_text\".\n"
          ],
          "name": "stderr"
        }
      ]
    },
    {
      "cell_type": "markdown",
      "metadata": {
        "id": "lcYiuysd9cK4",
        "colab_type": "text"
      },
      "source": [
        "We also need to match the references with the inputs. Since we only have one reference per input sample, we set `repeat=1`."
      ]
    },
    {
      "cell_type": "code",
      "metadata": {
        "id": "s94NfwBl9sZP",
        "colab_type": "code",
        "outputId": "d84c94db-ab5c-4f61-ea3c-125acd075921",
        "colab": {
          "base_uri": "https://localhost:8080/",
          "height": 53
        }
      },
      "source": [
        "keep_n_captions(ds, repeat=1, n=1, set_names=['val'])\n"
      ],
      "execution_count": 0,
      "outputs": [
        {
          "output_type": "stream",
          "text": [
            "[24/03/2020 14:27:55] Keeping 1 captions per input on the val set.\n",
            "[24/03/2020 14:27:55] Samples reduced to 100 in val set.\n"
          ],
          "name": "stderr"
        }
      ]
    },
    {
      "cell_type": "markdown",
      "metadata": {
        "id": "sDYhlBpR9vgi",
        "colab_type": "text"
      },
      "source": [
        "Finally, we can save our dataset instance for using in other experiments:"
      ]
    },
    {
      "cell_type": "code",
      "metadata": {
        "id": "sS5vZ5zp9tkG",
        "colab_type": "code",
        "outputId": "3877795c-3cf9-46de-a492-356e5075097b",
        "colab": {
          "base_uri": "https://localhost:8080/",
          "height": 71
        }
      },
      "source": [
        "saveDataset(ds, 'datasets')\n"
      ],
      "execution_count": 0,
      "outputs": [
        {
          "output_type": "stream",
          "text": [
            "[24/03/2020 14:27:55] <<< creating directory datasets ... >>>\n",
            "[24/03/2020 14:27:55] <<< Saving Dataset instance to datasets/Dataset_tutorial_dataset.pkl ... >>>\n",
            "[24/03/2020 14:27:55] <<< Dataset instance saved >>>\n"
          ],
          "name": "stderr"
        }
      ]
    },
    {
      "cell_type": "markdown",
      "metadata": {
        "id": "Yj8aYICU-eLH",
        "colab_type": "text"
      },
      "source": [
        "## 2. Creating and training a Neural Translation Model\n",
        "Now, we'll create and train a Neural Machine Translation (NMT) model. Since there is a significant number of hyperparameters, we'll use the default ones, specified in the `config.py` file. Note that almost every hardcoded parameter is automatically set from config if we run  `main.py `.\n",
        "\n",
        "We'll create an `'AttentionRNNEncoderDecoder'` (a LSTM encoder-decoder with attention mechanism). Refer to the [`model_zoo.py`](https://github.com/lvapeab/nmt-keras/blob/master/nmt_keras/model_zoo.py) file for other models (e.g. Transformer). \n",
        "\n",
        "So first, let's import the model and the hyperparameters. We'll also load the dataset we stored in the previous section (not necessary as it is in memory, but as a demonstration):"
      ]
    },
    {
      "cell_type": "code",
      "metadata": {
        "id": "TszghyVO_M0B",
        "colab_type": "code",
        "outputId": "cda2aca8-1618-4809-d174-82068f8dc71a",
        "colab": {
          "base_uri": "https://localhost:8080/",
          "height": 53
        }
      },
      "source": [
        "from config import load_parameters\n",
        "from nmt_keras.model_zoo import TranslationModel\n",
        "from keras_wrapper.cnn_model import loadModel\n",
        "from keras_wrapper.dataset import loadDataset\n",
        "from keras_wrapper.extra.callbacks import PrintPerformanceMetricOnEpochEndOrEachNUpdates\n",
        "params = load_parameters()\n",
        "dataset = loadDataset('datasets/Dataset_tutorial_dataset.pkl')\n"
      ],
      "execution_count": 48,
      "outputs": [
        {
          "output_type": "stream",
          "text": [
            "[24/03/2020 14:55:00] <<< Loading Dataset instance from datasets/Dataset_tutorial_dataset.pkl ... >>>\n",
            "[24/03/2020 14:55:00] <<< Dataset instance loaded >>>\n"
          ],
          "name": "stderr"
        }
      ]
    },
    {
      "cell_type": "markdown",
      "metadata": {
        "id": "7MHVvMDYFmcQ",
        "colab_type": "text"
      },
      "source": [
        "Since the number of words in the dataset may be unknown beforehand, we must update the params information according to the dataset instance:\n"
      ]
    },
    {
      "cell_type": "code",
      "metadata": {
        "id": "h7FIJGybFm7C",
        "colab_type": "code",
        "colab": {}
      },
      "source": [
        "params['INPUT_VOCABULARY_SIZE'] = dataset.vocabulary_len['source_text']\n",
        "params['OUTPUT_VOCABULARY_SIZE'] = dataset.vocabulary_len['target_text']"
      ],
      "execution_count": 0,
      "outputs": []
    },
    {
      "cell_type": "markdown",
      "metadata": {
        "id": "c3a9XanxFpp7",
        "colab_type": "text"
      },
      "source": [
        "Now, we create a `TranslationModel` instance:\n"
      ]
    },
    {
      "cell_type": "code",
      "metadata": {
        "id": "2RYqrU6VFr8U",
        "colab_type": "code",
        "outputId": "09643fc1-7e05-4860-9a04-9990f0f5f1b5",
        "colab": {
          "base_uri": "https://localhost:8080/",
          "height": 1000
        }
      },
      "source": [
        "nmt_model = TranslationModel(params,\n",
        "                             model_type='AttentionRNNEncoderDecoder', \n",
        "                             model_name='tutorial_model',\n",
        "                             vocabularies=dataset.vocabulary,\n",
        "                             store_path='trained_models/tutorial_model/',\n",
        "                             verbose=True)\n"
      ],
      "execution_count": 0,
      "outputs": [
        {
          "output_type": "stream",
          "text": [
            "[24/03/2020 14:27:55] <<< Building AttentionRNNEncoderDecoder Translation_Model >>>\n"
          ],
          "name": "stderr"
        },
        {
          "output_type": "stream",
          "text": [
            "-----------------------------------------------------------------------------------\n",
            "\t\tTranslationModel instance\n",
            "-----------------------------------------------------------------------------------\n",
            "_model_type: AttentionRNNEncoderDecoder\n",
            "name: tutorial_model\n",
            "model_path: trained_models/tutorial_model/\n",
            "verbose: True\n",
            "\n",
            "Params:\n",
            "\tACCUMULATE_GRADIENTS: 1\n",
            "\tADDITIONAL_OUTPUT_MERGE_MODE: Add\n",
            "\tALIGN_FROM_RAW: True\n",
            "\tALPHA_FACTOR: 0.6\n",
            "\tAMSGRAD: False\n",
            "\tAPPLY_DETOKENIZATION: False\n",
            "\tATTENTION_DROPOUT_P: 0.0\n",
            "\tATTENTION_MODE: add\n",
            "\tATTENTION_SIZE: 32\n",
            "\tBATCH_NORMALIZATION_MODE: 1\n",
            "\tBATCH_SIZE: 50\n",
            "\tBEAM_SEARCH: True\n",
            "\tBEAM_SIZE: 6\n",
            "\tBETA_1: 0.9\n",
            "\tBETA_2: 0.999\n",
            "\tBIDIRECTIONAL_DEEP_ENCODER: True\n",
            "\tBIDIRECTIONAL_ENCODER: True\n",
            "\tBIDIRECTIONAL_MERGE_MODE: concat\n",
            "\tBPE_CODES_PATH: examples/EuTrans//training_codes.joint\n",
            "\tCLASSIFIER_ACTIVATION: softmax\n",
            "\tCLIP_C: 5.0\n",
            "\tCLIP_V: 0.0\n",
            "\tCOVERAGE_NORM_FACTOR: 0.2\n",
            "\tCOVERAGE_PENALTY: False\n",
            "\tDATASET_NAME: EuTrans\n",
            "\tDATASET_STORE_PATH: datasets/\n",
            "\tDATA_AUGMENTATION: False\n",
            "\tDATA_ROOT_PATH: examples/EuTrans/\n",
            "\tDECODER_HIDDEN_SIZE: 32\n",
            "\tDECODER_RNN_TYPE: ConditionalLSTM\n",
            "\tDEEP_OUTPUT_LAYERS: [('linear', 32)]\n",
            "\tDETOKENIZATION_METHOD: detokenize_none\n",
            "\tDOUBLE_STOCHASTIC_ATTENTION_REG: 0.0\n",
            "\tDROPOUT_P: 0.0\n",
            "\tEARLY_STOP: True\n",
            "\tEMBEDDINGS_FREQ: 1\n",
            "\tEMBEDDINGS_LAYER_NAMES: ['source_word_embedding', 'target_word_embedding']\n",
            "\tEMBEDDINGS_METADATA: None\n",
            "\tENCODER_HIDDEN_SIZE: 32\n",
            "\tENCODER_RNN_TYPE: LSTM\n",
            "\tEPOCHS_FOR_SAVE: 1\n",
            "\tEPSILON: 1e-08\n",
            "\tEVAL_EACH: 1\n",
            "\tEVAL_EACH_EPOCHS: True\n",
            "\tEVAL_ON_SETS: ['val']\n",
            "\tEVAL_ON_SETS_KERAS: []\n",
            "\tEXTRA_NAME: \n",
            "\tFF_SIZE: 128\n",
            "\tFILL: end\n",
            "\tFORCE_RELOAD_VOCABULARY: False\n",
            "\tGLOSSARY: None\n",
            "\tHEURISTIC: 0\n",
            "\tHOMOGENEOUS_BATCHES: False\n",
            "\tINIT_ATT: glorot_uniform\n",
            "\tINIT_FUNCTION: glorot_uniform\n",
            "\tINIT_LAYERS: ['tanh']\n",
            "\tINNER_INIT: orthogonal\n",
            "\tINPUTS_IDS_DATASET: ['source_text', 'state_below']\n",
            "\tINPUTS_IDS_MODEL: ['source_text', 'state_below']\n",
            "\tINPUTS_TYPES_DATASET: ['text-features', 'text-features']\n",
            "\tINPUT_VOCABULARY_SIZE: 689\n",
            "\tJOINT_BATCHES: 4\n",
            "\tLABEL_SMOOTHING: 0.0\n",
            "\tLABEL_WORD_EMBEDDINGS_WITH_VOCAB: True\n",
            "\tLENGTH_NORM_FACTOR: 0.2\n",
            "\tLENGTH_PENALTY: False\n",
            "\tLOG_DIR: tensorboard_logs\n",
            "\tLOSS: categorical_crossentropy\n",
            "\tLR: 0.001\n",
            "\tLR_DECAY: None\n",
            "\tLR_GAMMA: 0.8\n",
            "\tLR_HALF_LIFE: 100\n",
            "\tLR_REDUCER_EXP_BASE: -0.5\n",
            "\tLR_REDUCER_TYPE: exponential\n",
            "\tLR_REDUCE_EACH_EPOCHS: False\n",
            "\tLR_START_REDUCTION_ON_EPOCH: 0\n",
            "\tMAPPING: examples/EuTrans//mapping.es_en.pkl\n",
            "\tMAXLEN_GIVEN_X: True\n",
            "\tMAXLEN_GIVEN_X_FACTOR: 2\n",
            "\tMAX_EPOCH: 500\n",
            "\tMAX_INPUT_TEXT_LEN: 50\n",
            "\tMAX_OUTPUT_TEXT_LEN: 50\n",
            "\tMAX_OUTPUT_TEXT_LEN_TEST: 150\n",
            "\tMETRICS: ['coco']\n",
            "\tMINLEN_GIVEN_X: True\n",
            "\tMINLEN_GIVEN_X_FACTOR: 3\n",
            "\tMIN_DELTA: 0.0\n",
            "\tMIN_LR: 1e-09\n",
            "\tMIN_OCCURRENCES_INPUT_VOCAB: 0\n",
            "\tMIN_OCCURRENCES_OUTPUT_VOCAB: 0\n",
            "\tMODE: training\n",
            "\tMODEL_NAME: EuTrans_esen_AttentionRNNEncoderDecoder_src_emb_32_bidir_True_enc_LSTM_32_dec_ConditionalLSTM_32_deepout_linear_trg_emb_32_Adam_0.001\n",
            "\tMODEL_SIZE: 32\n",
            "\tMODEL_TYPE: AttentionRNNEncoderDecoder\n",
            "\tMOMENTUM: 0.0\n",
            "\tMULTIHEAD_ATTENTION_ACTIVATION: linear\n",
            "\tNESTEROV_MOMENTUM: False\n",
            "\tNOISE_AMOUNT: 0.01\n",
            "\tNORMALIZE_SAMPLING: False\n",
            "\tN_GPUS: 1\n",
            "\tN_HEADS: 8\n",
            "\tN_LAYERS_DECODER: 1\n",
            "\tN_LAYERS_ENCODER: 1\n",
            "\tN_SAMPLES: 5\n",
            "\tOPTIMIZED_SEARCH: True\n",
            "\tOPTIMIZER: Adam\n",
            "\tOUTPUTS_IDS_DATASET: ['target_text']\n",
            "\tOUTPUTS_IDS_MODEL: ['target_text']\n",
            "\tOUTPUTS_TYPES_DATASET: ['text-features']\n",
            "\tOUTPUT_VOCABULARY_SIZE: 516\n",
            "\tPAD_ON_BATCH: True\n",
            "\tPARALLEL_LOADERS: 1\n",
            "\tPATIENCE: 10\n",
            "\tPLOT_EVALUATION: False\n",
            "\tPOS_UNK: True\n",
            "\tREBUILD_DATASET: True\n",
            "\tRECURRENT_DROPOUT_P: 0.0\n",
            "\tRECURRENT_INPUT_DROPOUT_P: 0.0\n",
            "\tRECURRENT_WEIGHT_DECAY: 0.0\n",
            "\tREGULARIZATION_FN: L2\n",
            "\tRELOAD: 0\n",
            "\tRELOAD_EPOCH: True\n",
            "\tRHO: 0.9\n",
            "\tSAMPLE_EACH_UPDATES: 300\n",
            "\tSAMPLE_ON_SETS: ['train', 'val']\n",
            "\tSAMPLE_WEIGHTS: True\n",
            "\tSAMPLING: max_likelihood\n",
            "\tSAMPLING_SAVE_MODE: list\n",
            "\tSAVE_EACH_EVALUATION: True\n",
            "\tSCALE_SOURCE_WORD_EMBEDDINGS: False\n",
            "\tSCALE_TARGET_WORD_EMBEDDINGS: False\n",
            "\tSEARCH_PRUNING: False\n",
            "\tSKIP_VECTORS_HIDDEN_SIZE: 32\n",
            "\tSKIP_VECTORS_SHARED_ACTIVATION: tanh\n",
            "\tSOURCE_TEXT_EMBEDDING_SIZE: 32\n",
            "\tSRC_LAN: es\n",
            "\tSRC_PRETRAINED_VECTORS: None\n",
            "\tSRC_PRETRAINED_VECTORS_TRAINABLE: True\n",
            "\tSTART_EVAL_ON_EPOCH: 1\n",
            "\tSTART_SAMPLING_ON_EPOCH: 1\n",
            "\tSTOP_METRIC: Bleu_4\n",
            "\tSTORE_PATH: trained_models/EuTrans_esen_AttentionRNNEncoderDecoder_src_emb_32_bidir_True_enc_LSTM_32_dec_ConditionalLSTM_32_deepout_linear_trg_emb_32_Adam_0.001/\n",
            "\tTARGET_TEXT_EMBEDDING_SIZE: 32\n",
            "\tTASK_NAME: EuTrans\n",
            "\tTEMPERATURE: 1\n",
            "\tTENSORBOARD: True\n",
            "\tTEXT_FILES: {'train': 'training.', 'val': 'dev.', 'test': 'test.'}\n",
            "\tTIE_EMBEDDINGS: False\n",
            "\tTOKENIZATION_METHOD: tokenize_none\n",
            "\tTOKENIZE_HYPOTHESES: True\n",
            "\tTOKENIZE_REFERENCES: True\n",
            "\tTRAINABLE_DECODER: True\n",
            "\tTRAINABLE_ENCODER: True\n",
            "\tTRAIN_ON_TRAINVAL: False\n",
            "\tTRG_LAN: en\n",
            "\tTRG_PRETRAINED_VECTORS: None\n",
            "\tTRG_PRETRAINED_VECTORS_TRAINABLE: True\n",
            "\tUSE_BATCH_NORMALIZATION: True\n",
            "\tUSE_CUDNN: False\n",
            "\tUSE_L1: False\n",
            "\tUSE_L2: False\n",
            "\tUSE_NOISE: False\n",
            "\tUSE_PRELU: False\n",
            "\tUSE_TF_OPTIMIZER: True\n",
            "\tVERBOSE: 1\n",
            "\tWARMUP_EXP: -1.5\n",
            "\tWEIGHT_DECAY: 0.0001\n",
            "\tWORD_EMBEDDINGS_LABELS: ['source_text', 'target_text']\n",
            "\tWRITE_VALID_SAMPLES: True\n",
            "-----------------------------------------------------------------------------------\n",
            "Model: \"tutorial_model_training\"\n",
            "__________________________________________________________________________________________________\n",
            "Layer (type)                    Output Shape         Param #     Connected to                     \n",
            "==================================================================================================\n",
            "source_text (InputLayer)        (None, None)         0                                            \n",
            "__________________________________________________________________________________________________\n",
            "source_word_embedding (Embeddin (None, None, 32)     22048       source_text[0][0]                \n",
            "__________________________________________________________________________________________________\n",
            "src_embedding_batch_normalizati (None, None, 32)     128         source_word_embedding[0][0]      \n",
            "__________________________________________________________________________________________________\n",
            "remove_mask_2 (RemoveMask)      (None, None, 32)     0           src_embedding_batch_normalization\n",
            "__________________________________________________________________________________________________\n",
            "bidirectional_encoder_LSTM (Bid (None, None, 64)     16640       remove_mask_2[0][0]              \n",
            "__________________________________________________________________________________________________\n",
            "annotations_batch_normalization (None, None, 64)     256         bidirectional_encoder_LSTM[0][0] \n",
            "__________________________________________________________________________________________________\n",
            "source_text_mask (GetMask)      (None, None, 32)     0           src_embedding_batch_normalization\n",
            "__________________________________________________________________________________________________\n",
            "annotations (ApplyMask)         (None, None, 64)     0           annotations_batch_normalization[0\n",
            "                                                                 source_text_mask[0][0]           \n",
            "__________________________________________________________________________________________________\n",
            "state_below (InputLayer)        (None, None)         0                                            \n",
            "__________________________________________________________________________________________________\n",
            "ctx_mean (MaskedMean)           (None, 64)           0           annotations[0][0]                \n",
            "__________________________________________________________________________________________________\n",
            "target_word_embedding (Embeddin (None, None, 32)     16512       state_below[0][0]                \n",
            "__________________________________________________________________________________________________\n",
            "initial_state (Dense)           (None, 32)           2080        ctx_mean[0][0]                   \n",
            "__________________________________________________________________________________________________\n",
            "initial_memory (Dense)          (None, 32)           2080        ctx_mean[0][0]                   \n",
            "__________________________________________________________________________________________________\n",
            "state_below_batch_normalization (None, None, 32)     128         target_word_embedding[0][0]      \n",
            "__________________________________________________________________________________________________\n",
            "initial_state_batch_normalizati (None, 32)           128         initial_state[0][0]              \n",
            "__________________________________________________________________________________________________\n",
            "initial_memory_batch_normalizat (None, 32)           128         initial_memory[0][0]             \n",
            "__________________________________________________________________________________________________\n",
            "decoder_AttConditionalLSTMCond  [(None, None, 32), ( 23873       state_below_batch_normalization[0\n",
            "                                                                 annotations[0][0]                \n",
            "                                                                 initial_state_batch_normalization\n",
            "                                                                 initial_memory_batch_normalizatio\n",
            "__________________________________________________________________________________________________\n",
            "proj_h0_batch_normalization (Ba (None, None, 32)     128         decoder_AttConditionalLSTMCond[0]\n",
            "__________________________________________________________________________________________________\n",
            "logit_ctx (TimeDistributed)     (None, None, 32)     2080        decoder_AttConditionalLSTMCond[0]\n",
            "__________________________________________________________________________________________________\n",
            "logit_lstm (TimeDistributed)    (None, None, 32)     1056        proj_h0_batch_normalization[0][0]\n",
            "__________________________________________________________________________________________________\n",
            "permute_general_2 (PermuteGener (None, None, 32)     0           logit_ctx[0][0]                  \n",
            "__________________________________________________________________________________________________\n",
            "logit_emb (TimeDistributed)     (None, None, 32)     1056        state_below_batch_normalization[0\n",
            "__________________________________________________________________________________________________\n",
            "out_layer_mlp_batch_normalizati (None, None, 32)     128         logit_lstm[0][0]                 \n",
            "__________________________________________________________________________________________________\n",
            "out_layer_ctx_batch_normalizati (None, None, 32)     128         permute_general_2[0][0]          \n",
            "__________________________________________________________________________________________________\n",
            "out_layer_emb_batch_normalizati (None, None, 32)     128         logit_emb[0][0]                  \n",
            "__________________________________________________________________________________________________\n",
            "additional_input (Add)          (None, None, 32)     0           out_layer_mlp_batch_normalization\n",
            "                                                                 out_layer_ctx_batch_normalization\n",
            "                                                                 out_layer_emb_batch_normalization\n",
            "__________________________________________________________________________________________________\n",
            "activation_2 (Activation)       (None, None, 32)     0           additional_input[0][0]           \n",
            "__________________________________________________________________________________________________\n",
            "linear_0 (TimeDistributed)      (None, None, 32)     1056        activation_2[0][0]               \n",
            "__________________________________________________________________________________________________\n",
            "out_layer_linear_0_batch_normal (None, None, 32)     128         linear_0[0][0]                   \n",
            "__________________________________________________________________________________________________\n",
            "target_text (TimeDistributed)   (None, None, 516)    17028       out_layer_linear_0_batch_normaliz\n",
            "==================================================================================================\n",
            "Total params: 106,917\n",
            "Trainable params: 106,213\n",
            "Non-trainable params: 704\n",
            "__________________________________________________________________________________________________\n"
          ],
          "name": "stdout"
        },
        {
          "output_type": "stream",
          "text": [
            "[24/03/2020 14:27:57] Preparing optimizer and compiling. Optimizer configuration: \n",
            "\t LR: 0.001\n",
            "\t LOSS: categorical_crossentropy\n",
            "\t BETA_1: 0.9\n",
            "\t BETA_2: 0.999\n",
            "\t EPSILON: 1e-08\n"
          ],
          "name": "stderr"
        }
      ]
    },
    {
      "cell_type": "markdown",
      "metadata": {
        "id": "pKQqWOneGD_3",
        "colab_type": "text"
      },
      "source": [
        "Next, we must define the inputs and outputs mapping from our Dataset instance to our model:\n"
      ]
    },
    {
      "cell_type": "code",
      "metadata": {
        "id": "VqEqWxYHGIM5",
        "colab_type": "code",
        "colab": {}
      },
      "source": [
        "\n",
        "inputMapping = dict()\n",
        "for i, id_in in enumerate(params['INPUTS_IDS_DATASET']):\n",
        "    pos_source = dataset.ids_inputs.index(id_in)\n",
        "    id_dest = nmt_model.ids_inputs[i]\n",
        "    inputMapping[id_dest] = pos_source\n",
        "nmt_model.setInputsMapping(inputMapping)\n",
        "\n",
        "outputMapping = dict()\n",
        "for i, id_out in enumerate(params['OUTPUTS_IDS_DATASET']):\n",
        "    pos_target = dataset.ids_outputs.index(id_out)\n",
        "    id_dest = nmt_model.ids_outputs[i]\n",
        "    outputMapping[id_dest] = pos_target\n",
        "nmt_model.setOutputsMapping(outputMapping)\n"
      ],
      "execution_count": 0,
      "outputs": []
    },
    {
      "cell_type": "markdown",
      "metadata": {
        "id": "NKPW2hv8GKMj",
        "colab_type": "text"
      },
      "source": [
        "We can add some callbacks for controlling the training (e.g. Sampling each N updates, early stop, learning rate annealing...). For instance, let's build a sampling callback. After each epoch, it will compute the 'coco' scores on the development set. We need to pass some configuration variables to the callback (in the extra_vars dictionary):\n"
      ]
    },
    {
      "cell_type": "code",
      "metadata": {
        "id": "7MtMvSoAGNHb",
        "colab_type": "code",
        "colab": {}
      },
      "source": [
        "search_params = {\n",
        "    'language': 'en',\n",
        "    'tokenize_f': eval('dataset.' + 'tokenize_none'),\n",
        "    'beam_size': 12,\n",
        "    'optimized_search': True,\n",
        "    'model_inputs': params['INPUTS_IDS_MODEL'],\n",
        "    'model_outputs': params['OUTPUTS_IDS_MODEL'],\n",
        "    'dataset_inputs':  params['INPUTS_IDS_DATASET'],\n",
        "    'dataset_outputs':  params['OUTPUTS_IDS_DATASET'],\n",
        "    'n_parallel_loaders': 1,\n",
        "    'maxlen': 50,\n",
        "    'model_inputs': ['source_text', 'state_below'],\n",
        "    'model_outputs': ['target_text'],\n",
        "    'dataset_inputs': ['source_text', 'state_below'],\n",
        "    'dataset_outputs': ['target_text'],\n",
        "    'normalize': True,\n",
        "    'pos_unk': True,\n",
        "    'heuristic': 0,\n",
        "    'state_below_maxlen': 1,\n",
        "    'val': {'references': dataset.extra_variables['val']['target_text']}\n",
        "  }\n",
        "\n",
        "vocab = dataset.vocabulary['target_text']['idx2words']\n",
        "callbacks = []\n",
        "input_text_id = params['INPUTS_IDS_DATASET'][0]\n",
        "\n",
        "callbacks.append(PrintPerformanceMetricOnEpochEndOrEachNUpdates(nmt_model,\n",
        "                                                                dataset,\n",
        "                                                                gt_id='target_text',\n",
        "                                                                metric_name=['coco'],\n",
        "                                                                set_name=['val'],\n",
        "                                                                batch_size=50,\n",
        "                                                                each_n_epochs=1,\n",
        "                                                                extra_vars=search_params,\n",
        "                                                                reload_epoch=0,\n",
        "                                                                is_text=True,\n",
        "                                                                input_text_id=input_text_id,\n",
        "                                                                index2word_y=vocab,\n",
        "                                                                sampling_type='max_likelihood',\n",
        "                                                                beam_search=True,\n",
        "                                                                save_path=nmt_model.model_path,\n",
        "                                                                start_eval_on_epoch=0,\n",
        "                                                                write_samples=True,\n",
        "                                                                write_type='list',\n",
        "                                                                verbose=True))"
      ],
      "execution_count": 0,
      "outputs": []
    },
    {
      "cell_type": "markdown",
      "metadata": {
        "id": "Vo-kOSLlGQux",
        "colab_type": "text"
      },
      "source": [
        "Now we are ready to train. Let's set up some training parameters...\n"
      ]
    },
    {
      "cell_type": "code",
      "metadata": {
        "id": "_-oborMLGUMP",
        "colab_type": "code",
        "colab": {}
      },
      "source": [
        "training_params = {'n_epochs': 4,\n",
        "                   'batch_size': 50,\n",
        "                   'maxlen': 30,\n",
        "                   'epochs_for_save': 1,\n",
        "                   'verbose': 1,\n",
        "                   'eval_on_sets': [], \n",
        "                   'n_parallel_loaders': 1,\n",
        "                   'extra_callbacks': callbacks,\n",
        "                   'reload_epoch': 0,\n",
        "                   'epoch_offset': 0}\n"
      ],
      "execution_count": 0,
      "outputs": []
    },
    {
      "cell_type": "markdown",
      "metadata": {
        "id": "Z7m3oR5RGVDp",
        "colab_type": "text"
      },
      "source": [
        "And train!\n"
      ]
    },
    {
      "cell_type": "code",
      "metadata": {
        "id": "PcyAKL4cGai4",
        "colab_type": "code",
        "outputId": "41700dc1-c447-4f4d-d13d-4ca697daad60",
        "colab": {
          "base_uri": "https://localhost:8080/",
          "height": 1000
        }
      },
      "source": [
        "nmt_model.trainNet(dataset, training_params)\n"
      ],
      "execution_count": 0,
      "outputs": [
        {
          "output_type": "stream",
          "text": [
            "[24/03/2020 14:29:37] <<< Training model >>>\n",
            "[24/03/2020 14:29:37] Training parameters: { \n",
            "\tbatch_size: 50\n",
            "\tclass_weights: None\n",
            "\tda_enhance_list: []\n",
            "\tda_patch_type: resize_and_rndcrop\n",
            "\tdata_augmentation: False\n",
            "\teach_n_epochs: 1\n",
            "\tepoch_offset: 0\n",
            "\tepochs_for_save: 1\n",
            "\teval_on_epochs: True\n",
            "\teval_on_sets: []\n",
            "\textra_callbacks: [<keras_wrapper.extra.callbacks.EvalPerformance object at 0x7f5e1b11fe80>]\n",
            "\thomogeneous_batches: False\n",
            "\tinitial_lr: 1.0\n",
            "\tjoint_batches: 4\n",
            "\tlr_decay: None\n",
            "\tlr_gamma: 0.1\n",
            "\tlr_half_life: 50000\n",
            "\tlr_reducer_exp_base: 0.5\n",
            "\tlr_reducer_type: linear\n",
            "\tlr_warmup_exp: -1.5\n",
            "\tmaxlen: 30\n",
            "\tmean_substraction: False\n",
            "\tmetric_check: None\n",
            "\tmin_delta: 0.0\n",
            "\tmin_lr: 1e-09\n",
            "\tn_epochs: 4\n",
            "\tn_gpus: 1\n",
            "\tn_parallel_loaders: 1\n",
            "\tnormalization_type: None\n",
            "\tnormalize: False\n",
            "\tnum_iterations_val: None\n",
            "\tpatience: 0\n",
            "\tpatience_check_split: val\n",
            "\treduce_each_epochs: True\n",
            "\treload_epoch: 0\n",
            "\tshuffle: True\n",
            "\tstart_eval_on_epoch: 0\n",
            "\tstart_reduction_on_epoch: 0\n",
            "\ttensorboard: False\n",
            "\ttensorboard_params: {'log_dir': 'tensorboard_logs', 'histogram_freq': 0, 'batch_size': 50, 'write_graph': True, 'write_grads': False, 'write_images': False, 'embeddings_freq': 0, 'embeddings_layer_names': None, 'embeddings_metadata': None}\n",
            "\tverbose: 1\n",
            "\two_da_patch_type: whole\n",
            "}\n"
          ],
          "name": "stderr"
        },
        {
          "output_type": "stream",
          "text": [
            "Epoch 1/4\n",
            "198/198 [==============================] - 28s 143ms/step - loss: 2.0497\n"
          ],
          "name": "stdout"
        },
        {
          "output_type": "stream",
          "text": [
            "[24/03/2020 14:30:05] <<< Saving model to trained_models/tutorial_model//epoch_1 ... >>>\n"
          ],
          "name": "stderr"
        },
        {
          "output_type": "stream",
          "text": [
            "\n"
          ],
          "name": "stdout"
        },
        {
          "output_type": "stream",
          "text": [
            "/usr/local/lib/python3.6/dist-packages/keras/engine/saving.py:135: UserWarning: TensorFlow optimizers do not make it possible to access optimizer attributes or optimizer state after instantiation. As a result, we cannot save the optimizer as part of the model save file.You will have to compile your model again after loading it. Prefer using a Keras optimizer instead (see keras.io/optimizers).\n",
            "  'TensorFlow optimizers do not '\n",
            "[24/03/2020 14:30:05] <<< Model saved >>>\n",
            "\n",
            "[24/03/2020 14:30:05] <<< Predicting outputs of val set >>>\n"
          ],
          "name": "stderr"
        },
        {
          "output_type": "stream",
          "text": [
            "\n",
            "\n",
            " Total cost of the translations: 413.325317 \t Average cost of the translations: 4.133253\n",
            "The sampling took: 11.451336 secs (Speed: 0.114513 sec/sample)\n"
          ],
          "name": "stdout"
        },
        {
          "output_type": "stream",
          "text": [
            "[24/03/2020 14:30:17] Prediction output 0: target_text (text)\n",
            "[24/03/2020 14:30:17] Decoding beam search prediction ...\n",
            "[24/03/2020 14:30:17] Using heuristic 0\n",
            "[24/03/2020 14:30:17] Evaluating on metric coco\n"
          ],
          "name": "stderr"
        },
        {
          "output_type": "stream",
          "text": [
            "\n"
          ],
          "name": "stdout"
        },
        {
          "output_type": "stream",
          "text": [
            "[24/03/2020 14:30:29] Computing coco scores on the val split...\n",
            "[24/03/2020 14:30:29] Bleu_1: 0.47932978332553244\n",
            "[24/03/2020 14:30:29] Bleu_2: 0.44420341781998574\n",
            "[24/03/2020 14:30:29] Bleu_3: 0.41484331636093436\n",
            "[24/03/2020 14:30:29] Bleu_4: 0.3858938496848188\n",
            "[24/03/2020 14:30:29] CIDEr: 3.9957461278437503\n",
            "[24/03/2020 14:30:29] METEOR: 0.29851574857051033\n",
            "[24/03/2020 14:30:29] ROUGE_L: 0.6115729583070446\n",
            "[24/03/2020 14:30:29] TER: 0.46356275303643724\n",
            "[24/03/2020 14:30:29] Done evaluating on metric coco\n",
            "\n",
            "[24/03/2020 14:30:29] <<< Progress plot saved in trained_models/tutorial_model//epoch_1.jpg >>>\n"
          ],
          "name": "stderr"
        },
        {
          "output_type": "stream",
          "text": [
            "Epoch 2/4\n",
            "198/198 [==============================] - 28s 141ms/step - loss: 1.0848\n"
          ],
          "name": "stdout"
        },
        {
          "output_type": "stream",
          "text": [
            "[24/03/2020 14:30:57] <<< Saving model to trained_models/tutorial_model//epoch_2 ... >>>\n"
          ],
          "name": "stderr"
        },
        {
          "output_type": "stream",
          "text": [
            "\n"
          ],
          "name": "stdout"
        },
        {
          "output_type": "stream",
          "text": [
            "/usr/local/lib/python3.6/dist-packages/keras/engine/saving.py:135: UserWarning: TensorFlow optimizers do not make it possible to access optimizer attributes or optimizer state after instantiation. As a result, we cannot save the optimizer as part of the model save file.You will have to compile your model again after loading it. Prefer using a Keras optimizer instead (see keras.io/optimizers).\n",
            "  'TensorFlow optimizers do not '\n",
            "[24/03/2020 14:30:57] <<< Model saved >>>\n",
            "\n",
            "[24/03/2020 14:30:57] <<< Predicting outputs of val set >>>\n"
          ],
          "name": "stderr"
        },
        {
          "output_type": "stream",
          "text": [
            "\n",
            "\n",
            " Total cost of the translations: 297.684967 \t Average cost of the translations: 2.976850\n",
            "The sampling took: 10.919711 secs (Speed: 0.109197 sec/sample)\n"
          ],
          "name": "stdout"
        },
        {
          "output_type": "stream",
          "text": [
            "[24/03/2020 14:31:08] Prediction output 0: target_text (text)\n",
            "[24/03/2020 14:31:08] Decoding beam search prediction ...\n",
            "[24/03/2020 14:31:08] Using heuristic 0\n",
            "[24/03/2020 14:31:08] Evaluating on metric coco\n"
          ],
          "name": "stderr"
        },
        {
          "output_type": "stream",
          "text": [
            "\n"
          ],
          "name": "stdout"
        },
        {
          "output_type": "stream",
          "text": [
            "[24/03/2020 14:31:19] Computing coco scores on the val split...\n",
            "[24/03/2020 14:31:19] Bleu_1: 0.7396147552214621\n",
            "[24/03/2020 14:31:19] Bleu_2: 0.7123021720367329\n",
            "[24/03/2020 14:31:19] Bleu_3: 0.6917392773743373\n",
            "[24/03/2020 14:31:19] Bleu_4: 0.6712081322654118\n",
            "[24/03/2020 14:31:19] CIDEr: 6.599257729584952\n",
            "[24/03/2020 14:31:19] METEOR: 0.45359735747932894\n",
            "[24/03/2020 14:31:19] ROUGE_L: 0.8193126963132882\n",
            "[24/03/2020 14:31:19] TER: 0.2520242914979757\n",
            "[24/03/2020 14:31:19] Done evaluating on metric coco\n",
            "\n",
            "[24/03/2020 14:31:19] <<< Progress plot saved in trained_models/tutorial_model//epoch_2.jpg >>>\n"
          ],
          "name": "stderr"
        },
        {
          "output_type": "stream",
          "text": [
            "Epoch 3/4\n",
            "198/198 [==============================] - 28s 140ms/step - loss: 0.7070\n"
          ],
          "name": "stdout"
        },
        {
          "output_type": "stream",
          "text": [
            "[24/03/2020 14:31:46] <<< Saving model to trained_models/tutorial_model//epoch_3 ... >>>\n"
          ],
          "name": "stderr"
        },
        {
          "output_type": "stream",
          "text": [
            "\n"
          ],
          "name": "stdout"
        },
        {
          "output_type": "stream",
          "text": [
            "/usr/local/lib/python3.6/dist-packages/keras/engine/saving.py:135: UserWarning: TensorFlow optimizers do not make it possible to access optimizer attributes or optimizer state after instantiation. As a result, we cannot save the optimizer as part of the model save file.You will have to compile your model again after loading it. Prefer using a Keras optimizer instead (see keras.io/optimizers).\n",
            "  'TensorFlow optimizers do not '\n",
            "[24/03/2020 14:31:47] <<< Model saved >>>\n",
            "\n",
            "[24/03/2020 14:31:47] <<< Predicting outputs of val set >>>\n"
          ],
          "name": "stderr"
        },
        {
          "output_type": "stream",
          "text": [
            "\n",
            "\n",
            " Total cost of the translations: 197.531387 \t Average cost of the translations: 1.975314\n",
            "The sampling took: 10.611021 secs (Speed: 0.106110 sec/sample)\n"
          ],
          "name": "stdout"
        },
        {
          "output_type": "stream",
          "text": [
            "[24/03/2020 14:31:57] Prediction output 0: target_text (text)\n",
            "[24/03/2020 14:31:57] Decoding beam search prediction ...\n",
            "[24/03/2020 14:31:57] Using heuristic 0\n",
            "[24/03/2020 14:31:57] Evaluating on metric coco\n"
          ],
          "name": "stderr"
        },
        {
          "output_type": "stream",
          "text": [
            "\n"
          ],
          "name": "stdout"
        },
        {
          "output_type": "stream",
          "text": [
            "[24/03/2020 14:32:07] Computing coco scores on the val split...\n",
            "[24/03/2020 14:32:07] Bleu_1: 0.8863528829767809\n",
            "[24/03/2020 14:32:07] Bleu_2: 0.8659776671633338\n",
            "[24/03/2020 14:32:07] Bleu_3: 0.8536660039929164\n",
            "[24/03/2020 14:32:07] Bleu_4: 0.8427886854101327\n",
            "[24/03/2020 14:32:07] CIDEr: 8.052806455838352\n",
            "[24/03/2020 14:32:07] METEOR: 0.5647919618681059\n",
            "[24/03/2020 14:32:07] ROUGE_L: 0.9119877474469017\n",
            "[24/03/2020 14:32:07] TER: 0.11538461538461539\n",
            "[24/03/2020 14:32:07] Done evaluating on metric coco\n",
            "\n",
            "[24/03/2020 14:32:07] <<< Progress plot saved in trained_models/tutorial_model//epoch_3.jpg >>>\n"
          ],
          "name": "stderr"
        },
        {
          "output_type": "stream",
          "text": [
            "Epoch 4/4\n",
            "198/198 [==============================] - 28s 141ms/step - loss: 0.5051\n"
          ],
          "name": "stdout"
        },
        {
          "output_type": "stream",
          "text": [
            "[24/03/2020 14:32:35] <<< Saving model to trained_models/tutorial_model//epoch_4 ... >>>\n"
          ],
          "name": "stderr"
        },
        {
          "output_type": "stream",
          "text": [
            "\n"
          ],
          "name": "stdout"
        },
        {
          "output_type": "stream",
          "text": [
            "/usr/local/lib/python3.6/dist-packages/keras/engine/saving.py:135: UserWarning: TensorFlow optimizers do not make it possible to access optimizer attributes or optimizer state after instantiation. As a result, we cannot save the optimizer as part of the model save file.You will have to compile your model again after loading it. Prefer using a Keras optimizer instead (see keras.io/optimizers).\n",
            "  'TensorFlow optimizers do not '\n",
            "[24/03/2020 14:32:35] <<< Model saved >>>\n",
            "\n",
            "[24/03/2020 14:32:35] <<< Predicting outputs of val set >>>\n"
          ],
          "name": "stderr"
        },
        {
          "output_type": "stream",
          "text": [
            "\n",
            "\n",
            " Total cost of the translations: 152.965485 \t Average cost of the translations: 1.529655\n",
            "The sampling took: 11.152328 secs (Speed: 0.111523 sec/sample)\n"
          ],
          "name": "stdout"
        },
        {
          "output_type": "stream",
          "text": [
            "[24/03/2020 14:32:47] Prediction output 0: target_text (text)\n",
            "[24/03/2020 14:32:47] Decoding beam search prediction ...\n",
            "[24/03/2020 14:32:47] Using heuristic 0\n",
            "[24/03/2020 14:32:47] Evaluating on metric coco\n"
          ],
          "name": "stderr"
        },
        {
          "output_type": "stream",
          "text": [
            "\n"
          ],
          "name": "stdout"
        },
        {
          "output_type": "stream",
          "text": [
            "[24/03/2020 14:32:57] Computing coco scores on the val split...\n",
            "[24/03/2020 14:32:57] Bleu_1: 0.9307269346402889\n",
            "[24/03/2020 14:32:57] Bleu_2: 0.9142206854883193\n",
            "[24/03/2020 14:32:57] Bleu_3: 0.90259550366933\n",
            "[24/03/2020 14:32:57] Bleu_4: 0.8919264143953128\n",
            "[24/03/2020 14:32:57] CIDEr: 8.613646097403906\n",
            "[24/03/2020 14:32:57] METEOR: 0.6056404030968355\n",
            "[24/03/2020 14:32:57] ROUGE_L: 0.9431622423078433\n",
            "[24/03/2020 14:32:57] TER: 0.08097165991902834\n",
            "[24/03/2020 14:32:57] Done evaluating on metric coco\n",
            "\n",
            "[24/03/2020 14:32:57] <<< Progress plot saved in trained_models/tutorial_model//epoch_4.jpg >>>\n",
            "[24/03/2020 14:32:57] <<< Finished training model >>>\n"
          ],
          "name": "stderr"
        }
      ]
    },
    {
      "cell_type": "markdown",
      "metadata": {
        "id": "Hq3_MyX3A4XV",
        "colab_type": "text"
      },
      "source": [
        "## 3. Decoding with a trained Neural Machine Translation Model\n",
        "\n",
        "Now, we'll load from disk the model we just trained and we'll apply it for translating new text. In this case, we want to translate the 'test' split from our dataset.\n",
        "\n",
        "Since we want to translate a new data split ('test') we must add it to the dataset instance, just as we did before (at the first tutorial). In case we also had the refences of the test split and we wanted to evaluate it, we can add it to the dataset. Note that this is not mandatory and we could just predict without evaluating."
      ]
    },
    {
      "cell_type": "code",
      "metadata": {
        "id": "2H-jXRq4BGm_",
        "colab_type": "code",
        "colab": {
          "base_uri": "https://localhost:8080/",
          "height": 89
        },
        "outputId": "2b8d8274-da1c-43ab-b79c-8fce9372b4f2"
      },
      "source": [
        "dataset.setInput('examples/EuTrans/test.es',\n",
        "            'test',\n",
        "            type='text',\n",
        "            id='source_text',\n",
        "            pad_on_batch=True,\n",
        "            tokenization='tokenize_none',\n",
        "            fill='end',\n",
        "            max_text_len=30,\n",
        "            min_occ=0)\n",
        "\n",
        "dataset.setInput(None,\n",
        "            'test',\n",
        "            type='ghost',\n",
        "            id='state_below',\n",
        "            required=False)\n",
        "\n",
        "dataset.setRawInput('examples/EuTrans/test.es',\n",
        "              'test',\n",
        "              type='file-name',\n",
        "              id='raw_source_text',\n",
        "              overwrite_split=True)\n"
      ],
      "execution_count": 50,
      "outputs": [
        {
          "output_type": "stream",
          "text": [
            "[24/03/2020 14:55:34] \tApplying tokenization function: \"tokenize_none\".\n",
            "[24/03/2020 14:55:34] Loaded \"test\" set inputs of data_type \"text\" with data_id \"source_text\" and length 2996.\n",
            "[24/03/2020 14:55:34] Loaded \"test\" set inputs of data_type \"ghost\" with data_id \"state_below\" and length 2996.\n",
            "[24/03/2020 14:55:34] Loaded \"test\" set inputs of type \"file-name\" with id \"raw_source_text\".\n"
          ],
          "name": "stderr"
        }
      ]
    },
    {
      "cell_type": "markdown",
      "metadata": {
        "id": "wUZveIgLCzlq",
        "colab_type": "text"
      },
      "source": [
        "Now, let's load the translation model. Suppose we want to load the model saved at the end of the epoch 4:\n"
      ]
    },
    {
      "cell_type": "code",
      "metadata": {
        "id": "8hgOSknZC2lh",
        "colab_type": "code",
        "colab": {}
      },
      "source": [
        "params['INPUT_VOCABULARY_SIZE'] = dataset.vocabulary_len[params['INPUTS_IDS_DATASET'][0]]\n",
        "params['OUTPUT_VOCABULARY_SIZE'] = dataset.vocabulary_len[params['OUTPUTS_IDS_DATASET'][0]]\n",
        "\n",
        "# Load model\n",
        "nmt_model = loadModel('trained_models/tutorial_model', 4)\n"
      ],
      "execution_count": 0,
      "outputs": []
    },
    {
      "cell_type": "markdown",
      "metadata": {
        "id": "piDc_y0pC5la",
        "colab_type": "text"
      },
      "source": [
        "Once we loaded the model, we just have to invoke the sampling method (in this case, the Beam Search algorithm) for the 'test' split:\n"
      ]
    },
    {
      "cell_type": "code",
      "metadata": {
        "id": "2FBT1HWYC9ip",
        "colab_type": "code",
        "colab": {
          "base_uri": "https://localhost:8080/",
          "height": 125
        },
        "outputId": "f45b41ac-c616-4b77-ab10-9fba8614bc81"
      },
      "source": [
        "params_prediction = {\n",
        "    'language': 'en',\n",
        "    'tokenize_f': eval('dataset.' + 'tokenize_none'),\n",
        "    'beam_size': 12,\n",
        "    'optimized_search': True,\n",
        "    'model_inputs': params['INPUTS_IDS_MODEL'],\n",
        "    'model_outputs': params['OUTPUTS_IDS_MODEL'],\n",
        "    'dataset_inputs':  params['INPUTS_IDS_DATASET'],\n",
        "    'dataset_outputs':  params['OUTPUTS_IDS_DATASET'],\n",
        "    'n_parallel_loaders': 1,\n",
        "    'maxlen': 50,\n",
        "    'model_inputs': ['source_text', 'state_below'],\n",
        "    'model_outputs': ['target_text'],\n",
        "    'dataset_inputs': ['source_text', 'state_below'],\n",
        "    'dataset_outputs': ['target_text'],\n",
        "    'normalize': True,\n",
        "    'pos_unk': True,\n",
        "    'heuristic': 0,\n",
        "    'state_below_maxlen': 1,\n",
        "    'predict_on_sets': ['test'],\n",
        "    'verbose': 1,\n",
        "\n",
        "  }\n",
        "predictions = nmt_model.predictBeamSearchNet(dataset, params_prediction)['test']"
      ],
      "execution_count": 55,
      "outputs": [
        {
          "output_type": "stream",
          "text": [
            "\n",
            "[24/03/2020 15:03:16] <<< Predicting outputs of test set >>>\n"
          ],
          "name": "stderr"
        },
        {
          "output_type": "stream",
          "text": [
            "\n",
            "\n",
            " Total cost of the translations: 5359.951172 \t Average cost of the translations: 1.789036\n",
            "The sampling took: 377.352035 secs (Speed: 0.125952 sec/sample)\n"
          ],
          "name": "stdout"
        }
      ]
    },
    {
      "cell_type": "markdown",
      "metadata": {
        "id": "S2JcEpFJDTDs",
        "colab_type": "text"
      },
      "source": [
        "Up to now, in the variable 'predictions', we have the indices of the words of the hypotheses. We must decode them into words. For doing this, we'll use the dictionary stored in the dataset object:\n"
      ]
    },
    {
      "cell_type": "code",
      "metadata": {
        "id": "4EGTAOFXDYLX",
        "colab_type": "code",
        "colab": {
          "base_uri": "https://localhost:8080/",
          "height": 35
        },
        "outputId": "c016d385-89f3-4b2a-cb5a-83ea94dd40ad"
      },
      "source": [
        "from keras_wrapper.utils import decode_predictions_beam_search\n",
        "vocab = dataset.vocabulary['target_text']['idx2words']\n",
        "predictions = decode_predictions_beam_search(predictions[0],  # The first element of predictions contain the word indices.\n",
        "                                             vocab,\n",
        "                                             verbose=params['VERBOSE'])"
      ],
      "execution_count": 62,
      "outputs": [
        {
          "output_type": "stream",
          "text": [
            "[24/03/2020 15:16:44] Decoding beam search prediction ...\n"
          ],
          "name": "stderr"
        }
      ]
    },
    {
      "cell_type": "markdown",
      "metadata": {
        "id": "7MZVhj0IDd93",
        "colab_type": "text"
      },
      "source": [
        "Finally, we store the hypotheses:\n",
        "\n"
      ]
    },
    {
      "cell_type": "code",
      "metadata": {
        "id": "kznqPYZMDg8o",
        "colab_type": "code",
        "colab": {
          "base_uri": "https://localhost:8080/",
          "height": 89
        },
        "outputId": "db1ca67b-2275-4c09-a766-3e6a0d623acb"
      },
      "source": [
        "filepath = 'test.pred'\n",
        "from keras_wrapper.extra.read_write import list2file\n",
        "list2file(filepath, predictions)\n",
        "!head -n 4 test.pred"
      ],
      "execution_count": 67,
      "outputs": [
        {
          "output_type": "stream",
          "text": [
            "I would like to book a room until tomorrow , please .\n",
            "please wake us up tomorrow at a quarter past seven .\n",
            "I am leaving today in the afternoon .\n",
            "would you mind sending down our luggage to room number oh one three , please ?\n"
          ],
          "name": "stdout"
        }
      ]
    },
    {
      "cell_type": "markdown",
      "metadata": {
        "id": "jUntF5T6Dx2w",
        "colab_type": "text"
      },
      "source": [
        "If we have the references of this split, we can also evaluate the performance of our system on it. First, we must add them to the dataset object:\n"
      ]
    },
    {
      "cell_type": "code",
      "metadata": {
        "id": "-pccriZWDyqr",
        "colab_type": "code",
        "colab": {
          "base_uri": "https://localhost:8080/",
          "height": 89
        },
        "outputId": "bf41a808-7409-4276-f889-d260a370570b"
      },
      "source": [
        "dataset.setOutput('examples/EuTrans/test.en',\n",
        "             'test',\n",
        "             type='text',\n",
        "             id='target_text',\n",
        "             pad_on_batch=True,\n",
        "             tokenization='tokenize_none',\n",
        "             sample_weights=True,\n",
        "             max_text_len=30,\n",
        "             max_words=0)\n",
        "keep_n_captions(dataset, repeat=1, n=1, set_names=['test'])"
      ],
      "execution_count": 68,
      "outputs": [
        {
          "output_type": "stream",
          "text": [
            "[24/03/2020 15:17:54] \tApplying tokenization function: \"tokenize_none\".\n",
            "[24/03/2020 15:17:54] Loaded \"test\" set outputs of data_type \"text\" with data_id \"target_text\" and length 2996.\n",
            "[24/03/2020 15:17:54] Keeping 1 captions per input on the test set.\n",
            "[24/03/2020 15:17:54] Samples reduced to 2996 in test set.\n"
          ],
          "name": "stderr"
        }
      ]
    },
    {
      "cell_type": "markdown",
      "metadata": {
        "id": "riPUDl-xD1WM",
        "colab_type": "text"
      },
      "source": [
        "Next, we call the evaluation system: The COCO package. Although its main usage is for multimodal captioning, we can use it in machine translation:\n"
      ]
    },
    {
      "cell_type": "code",
      "metadata": {
        "id": "rfLzm4QBD2oj",
        "colab_type": "code",
        "colab": {
          "base_uri": "https://localhost:8080/",
          "height": 179
        },
        "outputId": "18f3b5c9-b93b-49f6-cf64-93d3c7a5da5f"
      },
      "source": [
        "\n",
        "from keras_wrapper.extra.evaluation import select\n",
        "metric = 'coco'\n",
        "# Apply sampling\n",
        "extra_vars = dict()\n",
        "extra_vars['tokenize_f'] = eval('dataset.' + 'tokenize_none')\n",
        "extra_vars['language'] = params['TRG_LAN']\n",
        "extra_vars['test'] = dict()\n",
        "extra_vars['test']['references'] = dataset.extra_variables['test']['target_text']\n",
        "metrics = select[metric](pred_list=predictions,\n",
        "                                          verbose=1,\n",
        "                                          extra_vars=extra_vars,\n",
        "                                          split='test')"
      ],
      "execution_count": 69,
      "outputs": [
        {
          "output_type": "stream",
          "text": [
            "[24/03/2020 15:18:21] Computing coco scores on the test split...\n",
            "[24/03/2020 15:18:21] Bleu_1: 0.8990784125154527\n",
            "[24/03/2020 15:18:21] Bleu_2: 0.8819113101031038\n",
            "[24/03/2020 15:18:21] Bleu_3: 0.8691817537848936\n",
            "[24/03/2020 15:18:21] Bleu_4: 0.8569641977912813\n",
            "[24/03/2020 15:18:21] CIDEr: 7.880240064453121\n",
            "[24/03/2020 15:18:21] METEOR: 0.5841539919810526\n",
            "[24/03/2020 15:18:21] ROUGE_L: 0.9157293025324528\n",
            "[24/03/2020 15:18:21] TER: 0.10828884518123068\n"
          ],
          "name": "stderr"
        }
      ]
    },
    {
      "cell_type": "markdown",
      "metadata": {
        "id": "jtfESZgUH6g_",
        "colab_type": "text"
      },
      "source": [
        "And that's all!"
      ]
    }
  ]
}